{
 "cells": [
  {
   "cell_type": "code",
   "execution_count": null,
   "id": "ecebd812",
   "metadata": {},
   "outputs": [
    {
     "name": "stdout",
     "output_type": "stream",
     "text": [
      "Good afternoon, what's your name? \n",
      "tr\n",
      "Alright tr, are you ready to spin? :D \n",
      "yes\n",
      "Let's go!\n"
     ]
    }
   ],
   "source": [
    "import time\n",
    "import random\n",
    "\n",
    "name = input(\"Good afternoon, what's your name? \\n\")\n",
    "time.sleep(1)\n",
    "\n",
    "answer = input(f\"Alright {name}, are you ready to spin? :D \\n\")\n",
    "\n",
    "time.sleep(2)\n",
    "\n",
    "print(\"Let's go!\")\n",
    "\n",
    "game = input(\"Write 'spin' to win your prize\\n\")\n",
    "\n",
    "time.sleep(1)\n",
    "countdown = 10\n",
    "while countdown >= 1:\n",
    "    print(countdown)\n",
    "    time.sleep(0.8)\n",
    "    countdown -=1\n",
    "    \n",
    "prize = [100,500,1000,2000,5000,10000,50000,1000000]\n",
    "random_prize = random.choice(prize)\n",
    "\n",
    "print(f\"{name}, you won...\\n\")\n",
    "time.sleep(3)\n",
    "\n",
    "print(f\"{random_prize} euros!\")"
   ]
  }
 ],
 "metadata": {
  "kernelspec": {
   "display_name": "Python 3 (ipykernel)",
   "language": "python",
   "name": "python3"
  },
  "language_info": {
   "codemirror_mode": {
    "name": "ipython",
    "version": 3
   },
   "file_extension": ".py",
   "mimetype": "text/x-python",
   "name": "python",
   "nbconvert_exporter": "python",
   "pygments_lexer": "ipython3",
   "version": "3.9.17"
  }
 },
 "nbformat": 4,
 "nbformat_minor": 5
}
